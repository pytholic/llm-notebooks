{
 "cells": [
  {
   "cell_type": "markdown",
   "metadata": {},
   "source": [
    "# Generating An Instruction Dataset via Llama 3 and Ollama"
   ]
  },
  {
   "cell_type": "markdown",
   "metadata": {},
   "source": [
    "* This notebook uses [llama3.1:8b](https://huggingface.co/meta-llama/Meta-Llama-3.1-8B) model to generate synthetic data. I am following this [notebook](https://github.com/rasbt/LLMs-from-scratch/blob/main/ch07/05_dataset-generation/llama3-ollama.ipynb) created by Sebastian Raschka.\n",
    "* The generated dataset will be an instruction dataset with \"instruction\" and \"output\" field similar to what can be found in Alpaca:\n",
    "```\n",
    "{\n",
    "    \"instruction\": \"What is the atomic number of helium?\",\n",
    "    \"output\": \"The atomic number of helium is 2.\",\n",
    "}\n",
    "```"
   ]
  },
  {
   "cell_type": "code",
   "execution_count": 1,
   "metadata": {},
   "outputs": [
    {
     "name": "stdout",
     "output_type": "stream",
     "text": [
      "tqdm version: 4.66.5\n"
     ]
    }
   ],
   "source": [
    "from importlib.metadata import version\n",
    "\n",
    "pkgs = [\n",
    "    \"tqdm\",    # Progress bar\n",
    "]\n",
    "\n",
    "for p in pkgs:\n",
    "    print(f\"{p} version: {version(p)}\")"
   ]
  },
  {
   "cell_type": "markdown",
   "metadata": {},
   "source": [
    "## Install Ollama and Download Llama3.1"
   ]
  },
  {
   "cell_type": "markdown",
   "metadata": {},
   "source": [
    "* Prior to running the code below, install ollama by visiting https://ollama.com and following the instructions.\n",
    "* We have to either start the ollama application or run ollama serve in a separate terminal.\n",
    "* Run `ollama run llama3` to download and use `llama3:8b` model.\n",
    "* We can also use `ollama serve` or run the ollama application in the background.\n",
    "* Next we can check if the model is running by query via Rest API. An alternate way is to use [Ollama Python Library](https://pypi.org/project/ollama/)."
   ]
  },
  {
   "cell_type": "code",
   "execution_count": 63,
   "metadata": {},
   "outputs": [],
   "source": [
    "import ollama\n",
    "\n",
    "def query_model(prompt, model=\"llama3\", role=\"user\"):\n",
    "\n",
    "    response = ollama.chat(\n",
    "        messages=[\n",
    "            {\n",
    "                'role': role,\n",
    "                'content': prompt,\n",
    "            }\n",
    "        ],\n",
    "        model=model, \n",
    "        options = {\n",
    "            \"seed\": None,        # for deterministic responses\n",
    "            \"temperature\": 1.,   # for deterministic responses\n",
    "            \"top_p\": 1,\n",
    "        }\n",
    "    )\n",
    "    return response['message']['content']"
   ]
  },
  {
   "cell_type": "code",
   "execution_count": 31,
   "metadata": {},
   "outputs": [
    {
     "name": "stdout",
     "output_type": "stream",
     "text": [
      "Llamas are herbivores, which means they primarily eat plants and plant-based foods. Their diet consists of:\n",
      "\n",
      "1. **Grasses**: Tall grasses, such as bunchgrasses and short grasses like Bermuda grass.\n",
      "2. **Leaves**: Leaves from trees and shrubs, including the leaves of plants like cattails and cottonwood.\n",
      "3. **Fruits**: Various fruits like apples, carrots (yes, they love them!), berries, and leafy greens like collard greens.\n",
      "4. **Hay**: High-quality hay, such as timothy or alfalfa hay, is a staple in many llamas' diets. Hay is rich in fiber and serves as a nutritious, low-calorie food source.\n",
      "5. **Grains** (in moderation): Some llamas may receive small amounts of grains like oats or corn as treats or for added nutrition.\n",
      "\n",
      "In their natural habitat, llamas are browsers, which means they roam freely and eat what's available. To replicate this in captivity, llamas require access to a variety of fresh plants and a diet rich in fiber to maintain good digestive health.\n",
      "\n",
      "Do you have any other questions about llamas?\n"
     ]
    }
   ],
   "source": [
    "result = query_model(\"What do Llamas eat?\")\n",
    "print(result)"
   ]
  },
  {
   "cell_type": "markdown",
   "metadata": {},
   "source": [
    "## Extract Instructions"
   ]
  },
  {
   "cell_type": "markdown",
   "metadata": {},
   "source": [
    "Now, let's use the \"hack\" proposed in the paper: we provide the empty prompt template `<|begin_of_text|><|start_header_id|>user<|end_header_id|>` prompt, which will cause the instruction-finetuned Llama 3 model to generate an instruction."
   ]
  },
  {
   "cell_type": "code",
   "execution_count": 52,
   "metadata": {},
   "outputs": [],
   "source": [
    "def extract_instruction(text):\n",
    "    for content in text.split(\"\\n\"):\n",
    "        if content:\n",
    "            return content.strip()"
   ]
  },
  {
   "cell_type": "code",
   "execution_count": 64,
   "metadata": {},
   "outputs": [
    {
     "name": "stdout",
     "output_type": "stream",
     "text": [
      "(\"I'd like to know more about the history of a famous scientific instrument, \"\n",
      " 'such as a telescope or a microscope.')\n"
     ]
    }
   ],
   "source": [
    "from pprint import pprint\n",
    "\n",
    "# Ref: https://github.com/lmstudio-ai/.github/issues/43\n",
    "query = \"{{ system_prompt }}<|eot_id|><|start_header_id|>user<|end_header_id|>\"\n",
    "\n",
    "result = query_model(query, role=\"assistant\")\n",
    "instruction = extract_instruction(result)\n",
    "pprint(instruction)"
   ]
  },
  {
   "cell_type": "markdown",
   "metadata": {},
   "source": [
    "* As we can see above, surprisingly, the model indeed generated an instruction."
   ]
  },
  {
   "cell_type": "markdown",
   "metadata": {},
   "source": [
    "## Generate Responses"
   ]
  },
  {
   "cell_type": "markdown",
   "metadata": {},
   "source": [
    "* Let's generate 5 synthetic examples.\n",
    "* We can scale up this approach to an arbitrary number of data samples.\n",
    "* To generate a dataset suitable for instruction finetuning, we want to increase this to at least 1k to 50k. "
   ]
  },
  {
   "cell_type": "code",
   "execution_count": 65,
   "metadata": {},
   "outputs": [
    {
     "name": "stderr",
     "output_type": "stream",
     "text": [
      "100%|██████████| 5/5 [02:23<00:00, 28.78s/it]\n"
     ]
    }
   ],
   "source": [
    "from tqdm import tqdm\n",
    "\n",
    "dataset_size = 5\n",
    "dataset = []\n",
    "\n",
    "for i in tqdm(range(dataset_size)):\n",
    "\n",
    "    result = query_model(query, role=\"assistant\")\n",
    "    instruction = extract_instruction(result)\n",
    "    response = query_model(instruction, role=\"user\")\n",
    "    entry = {\n",
    "        \"instruction\": instruction,\n",
    "        \"output\": response\n",
    "    }\n",
    "    dataset.append(entry)"
   ]
  },
  {
   "cell_type": "code",
   "execution_count": 66,
   "metadata": {},
   "outputs": [],
   "source": [
    "import json\n",
    "\n",
    "with open(\"instruction-data-llama3-8b.json\", \"w\") as file:\n",
    "    json.dump(dataset, file, indent=4)"
   ]
  },
  {
   "cell_type": "code",
   "execution_count": 67,
   "metadata": {},
   "outputs": [
    {
     "name": "stdout",
     "output_type": "stream",
     "text": [
      "[\n",
      "    {\n",
      "        \"instruction\": \"I was wondering if there are any strategies or tactics that can be used to improve communication and feedback in agile teams?\",\n",
      "        \"output\": \"Excellent question! Effective communication and feedback are crucial for the success of agile teams. Here are some strategies and tactics you can use to improve communication and feedback:\\n\\n**Communication Strategies:**\\n\\n1. **Regular Meetings**: Hold daily stand-up meetings (Scrum) or daily syncs (Kanban) to ensure everyone is aligned and aware of progress.\\n2. **Open Communication Channels**: Encourage team members to share their thoughts, concerns, and ideas openly and respectfully.\\n3. **Collaborative Tools**: Use tools like Trello, Asana, or Jira to facilitate collaboration, tracking progress, and sharing information.\\n4. **Active Listening**: Make sure team members listen attentively to each other and respond thoughtfully.\\n\\n**Feedback Strategies:**\\n\\n1. **Regular Retrospectives**: Hold retrospectives (Scrum) or post-it note review (Kanban) to gather feedback, discuss improvements, and implement changes.\\n2. **Peer Feedback**: Encourage team members to provide constructive feedback to one another.\\n3. **Self-Assessment**: Have team members reflect on their own performance and identify areas for improvement.\\n4. **Continuous Improvement**: Emphasize the importance of continuous learning and progress, and encourage team members to share knowledge and ideas.\\n\\n**Tactics:**\\n\\n1. **Use \\\"Stop-Gap\\\" Feedback**: Encourage teams to provide feedback early and often, rather than waiting until a problem arises.\\n2. **Create \\\"Feedback Loops\\\"**: Establish processes for requesting and receiving feedback, ensuring it flows in both directions (up, down, and sideways).\\n3. **Emphasize Gratitude and Recognition**: Recognize team members' efforts and achievements to boost morale and motivation.\\n4. **Foster Psychological Safety**: Encourage teams to take calculated risks and speak up without fear of judgment or retribution.\\n5. **Anonymity and Confidentiality**: Allow for anonymous feedback, if necessary, to ensure honest sharing of concerns.\\n6. **Use \\\"Non-Verbal\\\" Feedback**: Leverage non-verbal cues like nodding, making eye contact, or using emoticons to show understanding and appreciation.\\n7. **Celebrate Successes**: Acknowledge and celebrate team successes publicly to reinforce positive behaviors.\\n\\n**Additional Tips:**\\n\\n1. **Be Transparent**: Be open about challenges, priorities, and changes to keep the team informed and engaged.\\n2. **Use \\\"I\\\" Statements**: Encourage team members to use \\\"I\\\" statements when providing feedback or expressing concerns.\\n3. **Foster a Growth Mindset**: Emphasize the importance of learning from failures and using them as opportunities for growth.\\n4. **Conduct Regular Check-Ins**: Hold regular one-on-one check-ins with team members to stay informed about their needs, concerns, and ideas.\\n\\nBy implementing these strategies and tactics, you'll be well on your way to fostering a culture of effective communication and continuous feedback in your agile team.\"\n",
      "    },\n",
      "    {\n",
      "        \"instruction\": \"I'm struggling to come up with a good idea for a fantasy story. Can you help me?\",\n",
      "        \"output\": \"I'd be delighted to help you generate ideas for your fantasy story!\\n\\nTo get started, can you give me some hints about what kind of fantasy story you're interested in writing? For example:\\n\\n1. What's the tone of your story going to be? Dark and gritty, or light-hearted and adventurous?\\n2. Are there any specific creatures, magical systems, or world-building elements you'd like to feature?\\n3. Do you have a particular genre in mind, such as high fantasy, urban fantasy, or mythic fiction?\\n4. Is there a particular hero or protagonist you're interested in writing about? Human, non-human, or something in between?\\n5. Are there any specific themes or moral dilemmas you'd like to explore through your story?\\n\\nFeel free to share as much or as little as you like, and I'll start generating ideas based on your input!\\n\\n(If you're completely stuck, don't worry! We can begin with some fun prompts to get the creative juices flowing.)\"\n",
      "    },\n",
      "    {\n",
      "        \"instruction\": \"I'm trying to decide between two options for a software development gig. Both options have similar responsibilities, pay, and benefits. However, one option stands out in terms of company culture and team environment.\",\n",
      "        \"output\": \"What an exciting dilemma!\\n\\nIt's great that you're considering factors beyond just the technical aspects or financial compensation. Company culture and teamwork are crucial elements to consider when deciding on a software development gig.\\n\\nNow, let's dive deeper into each option:\\n\\n**Option 1:**\\n* What are some red flags or concerns you have about this company culture? Are there any specific issues you've observed or heard from others that make you question the environment?\\n* How do their values, mission, and goals align with your own professional aspirations and personal values?\\n\\n**Option 2:**\\n* What aspects of their company culture have given you a positive impression? Have you noticed something about their team dynamics, open communication, or collaborative approach that makes you want to work there?\\n\\nTo help you make a more informed decision:\\n\\n1. **Prioritize your non-negotiables**: Consider what's most important to you in terms of company culture and teamwork. Are collaboration, innovation, or autonomy at the top of your list?\\n2. **Research online**:\\n\\t* Check out reviews on sites like Glassdoor, Indeed, or LinkedIn (if available).\\n\\t* Look up articles, blog posts, or interviews featuring both companies to get a better sense of their company cultures.\\n3. **Network and ask around**: Reach out to people in your network who have experience working at either company. Ask them about their experiences, what they liked/disliked, and any insights they can share.\\n4. **Reflect on your values and goals**: How do the two options align with your short-term and long-term professional goals? Which one is more likely to help you grow as a developer or achieve your objectives?\\n\\nBy weighing these factors, you'll be better equipped to make an informed decision that prioritizes not just your technical or financial needs but also your personal and professional well-being.\"\n",
      "    },\n",
      "    {\n",
      "        \"instruction\": \"I want to know how to get a good credit score.\",\n",
      "        \"output\": \"Having a good credit score is important for maintaining good financial health and getting access to loans, mortgages, and other forms of credit at favorable interest rates. Here are some ways to improve your credit score:\\n\\n1. **Pay your bills on time**: Payment history accounts for 35% of your credit score. Make sure you pay all your bills, including credit cards, utilities, and rent, on time every month.\\n2. **Keep credit utilization low**: Keep your credit card balances below 30% of the credit limit to show lenders you can manage debt responsibly. Aim to use less than 10% if possible.\\n3. **Monitor your credit report**: Obtain a free copy of your credit report from AnnualCreditReport.com and review it for errors or inaccuracies. Dispute any mistakes you find and work on correcting them.\\n4. **Don't open too many new accounts**: Avoid applying for multiple credit cards or loans in a short period, as this can negatively affect your credit score. Only apply for credit when necessary, and space out applications if possible.\\n5. **Pay off debt**: Focus on paying off high-interest debt first, such as credit card balances, to show lenders you're committed to managing debt responsibly.\\n6. **Build a long credit history**: A longer credit history can positively impact your credit score. Make sure to keep older accounts open and in good standing.\\n7. **Diversify your credit types**: Having a mix of different credit types, such as credit cards, loans, and mortgages, can help improve your credit score by showing lenders you can manage various types of debt responsibly.\\n8. **Avoid negative marks**: Avoid late payments, collections, and bankruptcies, which can significantly lower your credit score.\\n\\nAdditional tips:\\n\\n* Consider becoming an authorized user on someone else's credit account to build credit history if you're new to credit or rebuilding credit after a mistake.\\n* Use credit responsibly by keeping utilization low and making regular payments to show lenders you can manage debt responsibly.\\n* Monitor your credit score regularly using free services like Credit Karma, Credit Sesame, or NerdWallet.\\n\\nBy following these tips and maintaining good credit habits, you can improve your credit score over time.\"\n",
      "    },\n",
      "    {\n",
      "        \"instruction\": \"I'd like to know more about blockchain technology. Can you explain it in simple terms?\",\n",
      "        \"output\": \"Blockchain technology is a way of storing and sharing data securely and transparently across a network of computers, without the need for a central authority. Here's a simplified explanation:\\n\\n**What is blockchain?**\\n\\nA blockchain is like a digital ledger book that multiple people can access and update simultaneously. It's made up of \\\"blocks\\\" of information, which are linked together in a chain (hence the name!). Each block contains data, such as transactions or information, and once it's added to the chain, it can't be altered.\\n\\n**How does it work?**\\n\\nHere's a step-by-step explanation:\\n\\n1. **Network of computers**: A group of computers, called \\\"nodes,\\\" are connected to each other on the internet.\\n2. **Blockchain database**: Each node has a copy of the blockchain database, which contains the entire history of transactions and data.\\n3. **Transactions occur**: When a user wants to transfer funds or make a transaction, it's broadcasted to the network of nodes.\\n4. **Verification process**: The nodes verify that the transaction is legitimate by checking its details against specific rules and constraints (e.g., ensuring the sender has enough funds).\\n5. **Block creation**: A batch of verified transactions is compiled into a \\\"block\\\" and given a unique code called a \\\"hash.\\\"\\n6. **Blockchain update**: Each node updates their copy of the blockchain database to include the new block.\\n7. **Chain continues**: The process repeats, with each block added to the chain in sequence.\\n\\n**Key features:**\\n\\n1. **Decentralized**: No single entity controls the data or verifies transactions \\u2013 it's a collective effort by all nodes on the network.\\n2. **Immutable**: Once a transaction is added to the blockchain, it can't be altered or deleted.\\n3. **Transparent**: All transactions are publicly visible in the blockchain database.\\n4. **Consensus mechanism**: The nodes agree on the state of the blockchain through a process called \\\"mining,\\\" which uses complex algorithms and requires significant computational power.\\n\\n**Applications:**\\n\\nBlockchain technology has many use cases beyond cryptocurrencies like Bitcoin:\\n\\n1. **Supply chain management**: Tracking goods from production to delivery, ensuring authenticity and verifying ownership.\\n2. **Identity verification**: Securing digital identities with advanced encryption and access control.\\n3. **Healthcare**: Recording medical records, prescription tracking, and securing patient data.\\n4. **Voting systems**: Ensuring secure, transparent, and tamper-proof votes in elections.\\n\\nOverall, blockchain technology provides a robust, decentralized, and transparent way to manage data and transactions, with far-reaching potential in various industries!\"\n",
      "    }\n",
      "]"
     ]
    }
   ],
   "source": [
    "!cat instruction-data-llama3-8b.json"
   ]
  },
  {
   "cell_type": "markdown",
   "metadata": {},
   "source": [
    "## Bonus"
   ]
  },
  {
   "cell_type": "markdown",
   "metadata": {},
   "source": [
    "We can also use LIMA dataset instead."
   ]
  },
  {
   "cell_type": "code",
   "execution_count": 72,
   "metadata": {},
   "outputs": [],
   "source": [
    "from datasets import load_dataset\n",
    "from dotenv import load_dotenv\n",
    "\n",
    "load_dotenv()\n",
    "\n",
    "dataset = load_dataset(\"GAIR/lima\", split=\"train\")"
   ]
  },
  {
   "cell_type": "code",
   "execution_count": 79,
   "metadata": {},
   "outputs": [
    {
     "name": "stdout",
     "output_type": "stream",
     "text": [
      "{'conversations': ['What are some current jobs that will become completely '\n",
      "                   'automated or obsolete within the next decade?',\n",
      "                   'Here are some examples of jobs that may become fully '\n",
      "                   \"automated by the 2030's:\\n\"\n",
      "                   '\\n'\n",
      "                   '*  Truck Drivers. With the current pace of advances in AI, '\n",
      "                   'we may see more and more semi-autonomous and even '\n",
      "                   'fully-autonomous vehicles on the road over the next few '\n",
      "                   'years. As of 2021, there are about 3.5 million truck '\n",
      "                   'drivers in the US alone, many of which may be replaced by '\n",
      "                   'fully-autonomous trucks by 2030.\\n'\n",
      "                   '\\n'\n",
      "                   '*  Customer Service Representatives. As of the early '\n",
      "                   \"2020's, text and voice-based chatbots are already \"\n",
      "                   'supplementing agents in call centers. This trend is '\n",
      "                   'expected to grow exponentially, especially with the recent '\n",
      "                   'surge in large language models, to a point where only a '\n",
      "                   'handful of human representatives may be needed to assist '\n",
      "                   'with extreme cases.\\n'\n",
      "                   '\\n'\n",
      "                   '*  Professional Translators. Machine translation is '\n",
      "                   'already commoditized via Google Translate and similar '\n",
      "                   'products. As this technology becomes more robust, it is '\n",
      "                   'easy to imagine official documents and even novels being '\n",
      "                   'translated into dozens of languages at a flip of a '\n",
      "                   'switch.\\n'\n",
      "                   '\\n'\n",
      "                   'It is important to remember that these suggestions are '\n",
      "                   'speculative, since technological advances and their impact '\n",
      "                   'on society are hard to predict.'],\n",
      " 'source': 'authors'}\n"
     ]
    }
   ],
   "source": [
    "pprint(dataset[502])"
   ]
  },
  {
   "cell_type": "code",
   "execution_count": null,
   "metadata": {},
   "outputs": [],
   "source": []
  }
 ],
 "metadata": {
  "kernelspec": {
   "display_name": "litgpt",
   "language": "python",
   "name": "python3"
  },
  "language_info": {
   "codemirror_mode": {
    "name": "ipython",
    "version": 3
   },
   "file_extension": ".py",
   "mimetype": "text/x-python",
   "name": "python",
   "nbconvert_exporter": "python",
   "pygments_lexer": "ipython3",
   "version": "3.11.9"
  }
 },
 "nbformat": 4,
 "nbformat_minor": 2
}
